{
 "cells": [
  {
   "cell_type": "code",
   "execution_count": 6,
   "id": "245d06cc",
   "metadata": {},
   "outputs": [
    {
     "name": "stdin",
     "output_type": "stream",
     "text": [
      "Masukkan Pregnancies :  0\n",
      "Masukkan Glucose :  117\n",
      "Masukkan Blood_Pressure :  120\n",
      "Masukkan Skin_Thickness :  23\n",
      "Masukkan Insulin :  34\n",
      "Masukkan Weight dalam kg:  67\n",
      "Masukkan Height dalam meter:  1.89\n",
      "Masukkan Diabetes_Pedigree_Function :  1.3\n",
      "Masukkan Age :  21\n"
     ]
    },
    {
     "name": "stdout",
     "output_type": "stream",
     "text": [
      "1/1 [==============================] - 1s 528ms/step\n",
      "Prediction Outcome: [[0.41040578]]\n",
      "Peserta tidak memiliki Diabetes\n"
     ]
    }
   ],
   "source": [
    "import numpy as np\n",
    "from keras.models import load_model\n",
    "\n",
    "param = np.array(['Pregnancies','Glucose','Blood_Pressure','Skin_Thickness','Insulin','BMI','Diabetes_Pedigree_Function','Age'])\n",
    "# Example input data with 8 features\n",
    "input_data = np.empty(8)\n",
    "\n",
    "for i in range(0, 8):\n",
    "    if(param[i] == 'BMI'):\n",
    "        weight = float(input(\"Masukkan {} dalam kg: \".format(\"Weight\")))\n",
    "        height = float(input(\"Masukkan {} dalam meter: \".format(\"Height\")))\n",
    "        input_data[i] = weight/height**2\n",
    "    else:\n",
    "        input_data[i] = float(input(\"Masukkan {} : \".format(param[i])))\n",
    "\n",
    "input_data = input_data.reshape(1,-1)\n",
    "# Load the model\n",
    "model = load_model('DL_test.h5')\n",
    "\n",
    "# Make predictions\n",
    "predictions = model.predict(input_data)\n",
    "\n",
    "# Output the prediction\n",
    "print(\"Prediction Outcome:\", predictions)\n",
    "\n",
    "if(predictions >= 0.5):\n",
    "    print(\"Peserta memiliki Diabetes\")\n",
    "else:\n",
    "    print(\"Peserta tidak memiliki Diabetes\")\n"
   ]
  },
  {
   "cell_type": "code",
   "execution_count": null,
   "id": "5309b8e7-acc9-4e44-a8a4-9fcb8ef62047",
   "metadata": {},
   "outputs": [],
   "source": []
  }
 ],
 "metadata": {
  "kernelspec": {
   "display_name": "Python 3 (ipykernel)",
   "language": "python",
   "name": "python3"
  },
  "language_info": {
   "codemirror_mode": {
    "name": "ipython",
    "version": 3
   },
   "file_extension": ".py",
   "mimetype": "text/x-python",
   "name": "python",
   "nbconvert_exporter": "python",
   "pygments_lexer": "ipython3",
   "version": "3.9.18"
  }
 },
 "nbformat": 4,
 "nbformat_minor": 5
}
