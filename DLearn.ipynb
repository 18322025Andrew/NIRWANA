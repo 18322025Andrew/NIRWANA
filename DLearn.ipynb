{
 "cells": [
  {
   "cell_type": "markdown",
   "id": "4bcf3246-dfae-480b-b8e5-6deeb94c3b48",
   "metadata": {},
   "source": [
    "# Percobaan Deep Learning"
   ]
  },
  {
   "cell_type": "markdown",
   "id": "34a5d73f-bb0a-43f2-bfa3-b82a73cc3f91",
   "metadata": {},
   "source": [
    "Input file"
   ]
  },
  {
   "cell_type": "code",
   "execution_count": 1,
   "id": "86e02ea9-50c9-4d13-9438-57806e621b0a",
   "metadata": {},
   "outputs": [
    {
     "data": {
      "text/html": [
       "<div>\n",
       "<style scoped>\n",
       "    .dataframe tbody tr th:only-of-type {\n",
       "        vertical-align: middle;\n",
       "    }\n",
       "\n",
       "    .dataframe tbody tr th {\n",
       "        vertical-align: top;\n",
       "    }\n",
       "\n",
       "    .dataframe thead th {\n",
       "        text-align: right;\n",
       "    }\n",
       "</style>\n",
       "<table border=\"1\" class=\"dataframe\">\n",
       "  <thead>\n",
       "    <tr style=\"text-align: right;\">\n",
       "      <th></th>\n",
       "      <th>Pregnancies</th>\n",
       "      <th>Glucose</th>\n",
       "      <th>Blood_Pressure</th>\n",
       "      <th>Skin_Thickness</th>\n",
       "      <th>Insulin</th>\n",
       "      <th>BMI</th>\n",
       "      <th>Diabetes_Pedigree_Function</th>\n",
       "      <th>Age</th>\n",
       "      <th>Outcome</th>\n",
       "    </tr>\n",
       "  </thead>\n",
       "  <tbody>\n",
       "    <tr>\n",
       "      <th>0</th>\n",
       "      <td>6</td>\n",
       "      <td>148</td>\n",
       "      <td>72</td>\n",
       "      <td>35</td>\n",
       "      <td>0</td>\n",
       "      <td>33.6</td>\n",
       "      <td>0.627</td>\n",
       "      <td>50</td>\n",
       "      <td>1</td>\n",
       "    </tr>\n",
       "    <tr>\n",
       "      <th>1</th>\n",
       "      <td>1</td>\n",
       "      <td>85</td>\n",
       "      <td>66</td>\n",
       "      <td>29</td>\n",
       "      <td>0</td>\n",
       "      <td>26.6</td>\n",
       "      <td>0.351</td>\n",
       "      <td>31</td>\n",
       "      <td>0</td>\n",
       "    </tr>\n",
       "    <tr>\n",
       "      <th>2</th>\n",
       "      <td>8</td>\n",
       "      <td>183</td>\n",
       "      <td>64</td>\n",
       "      <td>0</td>\n",
       "      <td>0</td>\n",
       "      <td>23.3</td>\n",
       "      <td>0.672</td>\n",
       "      <td>32</td>\n",
       "      <td>1</td>\n",
       "    </tr>\n",
       "    <tr>\n",
       "      <th>3</th>\n",
       "      <td>1</td>\n",
       "      <td>89</td>\n",
       "      <td>66</td>\n",
       "      <td>23</td>\n",
       "      <td>94</td>\n",
       "      <td>28.1</td>\n",
       "      <td>0.167</td>\n",
       "      <td>21</td>\n",
       "      <td>0</td>\n",
       "    </tr>\n",
       "    <tr>\n",
       "      <th>4</th>\n",
       "      <td>0</td>\n",
       "      <td>137</td>\n",
       "      <td>40</td>\n",
       "      <td>35</td>\n",
       "      <td>168</td>\n",
       "      <td>43.1</td>\n",
       "      <td>2.288</td>\n",
       "      <td>33</td>\n",
       "      <td>1</td>\n",
       "    </tr>\n",
       "  </tbody>\n",
       "</table>\n",
       "</div>"
      ],
      "text/plain": [
       "   Pregnancies  Glucose  Blood_Pressure  Skin_Thickness  Insulin   BMI  \\\n",
       "0            6      148              72              35        0  33.6   \n",
       "1            1       85              66              29        0  26.6   \n",
       "2            8      183              64               0        0  23.3   \n",
       "3            1       89              66              23       94  28.1   \n",
       "4            0      137              40              35      168  43.1   \n",
       "\n",
       "   Diabetes_Pedigree_Function  Age  Outcome  \n",
       "0                       0.627   50        1  \n",
       "1                       0.351   31        0  \n",
       "2                       0.672   32        1  \n",
       "3                       0.167   21        0  \n",
       "4                       2.288   33        1  "
      ]
     },
     "metadata": {},
     "output_type": "display_data"
    }
   ],
   "source": [
    "import pandas as pd\n",
    "from IPython.display import display\n",
    "nama_csv = 'diabetes.csv'\n",
    "file = pd.read_csv(nama_csv)\n",
    "display(file.head())"
   ]
  },
  {
   "cell_type": "markdown",
   "id": "34fb54aa-a1cd-4125-a199-b2d3756aaef2",
   "metadata": {},
   "source": [
    "preprosessing"
   ]
  },
  {
   "cell_type": "code",
   "execution_count": 2,
   "id": "608c0fc4-885f-40e4-93d4-0b3a0437bcd1",
   "metadata": {},
   "outputs": [
    {
     "data": {
      "text/html": [
       "<div>\n",
       "<style scoped>\n",
       "    .dataframe tbody tr th:only-of-type {\n",
       "        vertical-align: middle;\n",
       "    }\n",
       "\n",
       "    .dataframe tbody tr th {\n",
       "        vertical-align: top;\n",
       "    }\n",
       "\n",
       "    .dataframe thead th {\n",
       "        text-align: right;\n",
       "    }\n",
       "</style>\n",
       "<table border=\"1\" class=\"dataframe\">\n",
       "  <thead>\n",
       "    <tr style=\"text-align: right;\">\n",
       "      <th></th>\n",
       "      <th>Pregnancies</th>\n",
       "      <th>Glucose</th>\n",
       "      <th>Blood_Pressure</th>\n",
       "      <th>Skin_Thickness</th>\n",
       "      <th>Insulin</th>\n",
       "      <th>BMI</th>\n",
       "      <th>Diabetes_Pedigree_Function</th>\n",
       "      <th>Age</th>\n",
       "      <th>Outcome</th>\n",
       "    </tr>\n",
       "  </thead>\n",
       "  <tbody>\n",
       "    <tr>\n",
       "      <th>count</th>\n",
       "      <td>768.000000</td>\n",
       "      <td>763.000000</td>\n",
       "      <td>733.000000</td>\n",
       "      <td>541.000000</td>\n",
       "      <td>394.000000</td>\n",
       "      <td>757.000000</td>\n",
       "      <td>768.000000</td>\n",
       "      <td>768.000000</td>\n",
       "      <td>768.000000</td>\n",
       "    </tr>\n",
       "    <tr>\n",
       "      <th>mean</th>\n",
       "      <td>3.845052</td>\n",
       "      <td>121.686763</td>\n",
       "      <td>72.405184</td>\n",
       "      <td>29.153420</td>\n",
       "      <td>155.548223</td>\n",
       "      <td>32.457464</td>\n",
       "      <td>0.471876</td>\n",
       "      <td>33.240885</td>\n",
       "      <td>0.348958</td>\n",
       "    </tr>\n",
       "    <tr>\n",
       "      <th>std</th>\n",
       "      <td>3.369578</td>\n",
       "      <td>30.535641</td>\n",
       "      <td>12.382158</td>\n",
       "      <td>10.476982</td>\n",
       "      <td>118.775855</td>\n",
       "      <td>6.924988</td>\n",
       "      <td>0.331329</td>\n",
       "      <td>11.760232</td>\n",
       "      <td>0.476951</td>\n",
       "    </tr>\n",
       "    <tr>\n",
       "      <th>min</th>\n",
       "      <td>0.000000</td>\n",
       "      <td>44.000000</td>\n",
       "      <td>24.000000</td>\n",
       "      <td>7.000000</td>\n",
       "      <td>14.000000</td>\n",
       "      <td>18.200000</td>\n",
       "      <td>0.078000</td>\n",
       "      <td>21.000000</td>\n",
       "      <td>0.000000</td>\n",
       "    </tr>\n",
       "    <tr>\n",
       "      <th>25%</th>\n",
       "      <td>1.000000</td>\n",
       "      <td>99.000000</td>\n",
       "      <td>64.000000</td>\n",
       "      <td>22.000000</td>\n",
       "      <td>76.250000</td>\n",
       "      <td>27.500000</td>\n",
       "      <td>0.243750</td>\n",
       "      <td>24.000000</td>\n",
       "      <td>0.000000</td>\n",
       "    </tr>\n",
       "    <tr>\n",
       "      <th>50%</th>\n",
       "      <td>3.000000</td>\n",
       "      <td>117.000000</td>\n",
       "      <td>72.000000</td>\n",
       "      <td>29.000000</td>\n",
       "      <td>125.000000</td>\n",
       "      <td>32.300000</td>\n",
       "      <td>0.372500</td>\n",
       "      <td>29.000000</td>\n",
       "      <td>0.000000</td>\n",
       "    </tr>\n",
       "    <tr>\n",
       "      <th>75%</th>\n",
       "      <td>6.000000</td>\n",
       "      <td>141.000000</td>\n",
       "      <td>80.000000</td>\n",
       "      <td>36.000000</td>\n",
       "      <td>190.000000</td>\n",
       "      <td>36.600000</td>\n",
       "      <td>0.626250</td>\n",
       "      <td>41.000000</td>\n",
       "      <td>1.000000</td>\n",
       "    </tr>\n",
       "    <tr>\n",
       "      <th>max</th>\n",
       "      <td>17.000000</td>\n",
       "      <td>199.000000</td>\n",
       "      <td>122.000000</td>\n",
       "      <td>99.000000</td>\n",
       "      <td>846.000000</td>\n",
       "      <td>67.100000</td>\n",
       "      <td>2.420000</td>\n",
       "      <td>81.000000</td>\n",
       "      <td>1.000000</td>\n",
       "    </tr>\n",
       "  </tbody>\n",
       "</table>\n",
       "</div>"
      ],
      "text/plain": [
       "       Pregnancies     Glucose  Blood_Pressure  Skin_Thickness     Insulin  \\\n",
       "count   768.000000  763.000000      733.000000      541.000000  394.000000   \n",
       "mean      3.845052  121.686763       72.405184       29.153420  155.548223   \n",
       "std       3.369578   30.535641       12.382158       10.476982  118.775855   \n",
       "min       0.000000   44.000000       24.000000        7.000000   14.000000   \n",
       "25%       1.000000   99.000000       64.000000       22.000000   76.250000   \n",
       "50%       3.000000  117.000000       72.000000       29.000000  125.000000   \n",
       "75%       6.000000  141.000000       80.000000       36.000000  190.000000   \n",
       "max      17.000000  199.000000      122.000000       99.000000  846.000000   \n",
       "\n",
       "              BMI  Diabetes_Pedigree_Function         Age     Outcome  \n",
       "count  757.000000                  768.000000  768.000000  768.000000  \n",
       "mean    32.457464                    0.471876   33.240885    0.348958  \n",
       "std      6.924988                    0.331329   11.760232    0.476951  \n",
       "min     18.200000                    0.078000   21.000000    0.000000  \n",
       "25%     27.500000                    0.243750   24.000000    0.000000  \n",
       "50%     32.300000                    0.372500   29.000000    0.000000  \n",
       "75%     36.600000                    0.626250   41.000000    1.000000  \n",
       "max     67.100000                    2.420000   81.000000    1.000000  "
      ]
     },
     "execution_count": 2,
     "metadata": {},
     "output_type": "execute_result"
    }
   ],
   "source": [
    "import seaborn as sns\n",
    "import numpy as np\n",
    "\n",
    "columns_to_replace = ['Blood_Pressure', 'Glucose', 'Skin_Thickness', 'Insulin', 'BMI']\n",
    "\n",
    "file[['Blood_Pressure', 'Glucose', 'Skin_Thickness', 'Insulin', 'BMI']] = file[\n",
    "['Blood_Pressure','Glucose', 'Skin_Thickness', 'Insulin', 'BMI']\n",
    "].replace(0, np.nan)\n",
    "\n",
    "\n",
    "for col in columns_to_replace:\n",
    "    file[col].fillna(file[col].mean())\n",
    "\n",
    "file.describe()"
   ]
  },
  {
   "cell_type": "markdown",
   "id": "103db79e-bf3b-4094-8f1a-785786843d33",
   "metadata": {},
   "source": [
    "Bagian pengolaan data"
   ]
  },
  {
   "cell_type": "code",
   "execution_count": 3,
   "id": "ef1f8ee4-768b-46a3-8661-9a159aa7e1e9",
   "metadata": {},
   "outputs": [],
   "source": [
    "from sklearn.model_selection import train_test_split\n",
    "X = file.drop(columns=['Outcome'])\n",
    "Y = file['Outcome']\n",
    "input = [8]\n",
    "\n",
    "# Split the data into training and validation sets\n",
    "X_train, X_valid, Y_train, Y_valid = train_test_split(X, Y, test_size=0.3, random_state=50)\n",
    "\n",
    "# Display the shapes of the resulting datasets\n",
    "#X_train.shape, X_valid.shape, Y_train.shape, Y_valid.shape"
   ]
  },
  {
   "cell_type": "markdown",
   "id": "2c47a2a3-bf8a-4d2b-aecb-520ee1d08185",
   "metadata": {},
   "source": [
    "Bagian DL"
   ]
  },
  {
   "cell_type": "code",
   "execution_count": 4,
   "id": "725a8c8d-8678-471a-9fd3-5963f3171407",
   "metadata": {},
   "outputs": [],
   "source": [
    "import tensorflow as tf\n",
    "from tensorflow import keras\n",
    "from tensorflow.keras import callbacks\n",
    "from tensorflow.keras import layers"
   ]
  },
  {
   "cell_type": "code",
   "execution_count": 12,
   "id": "6aa7e516-a451-42e0-a27a-6fed7be8519d",
   "metadata": {},
   "outputs": [],
   "source": [
    "model = keras.Sequential([\n",
    "    layers.BatchNormalization(input_shape = input),\n",
    "    layers.Dense(units = 1024, activation = 'tanh'),\n",
    "    layers.Dropout(0.3),\n",
    "    layers.BatchNormalization(),\n",
    "    layers.Dense(units = 1024, activation = 'tanh'),\n",
    "    layers.Dropout(0.3),\n",
    "    layers.BatchNormalization(),\n",
    "    layers.Dense(units = 512, activation = 'relu'),\n",
    "    layers.Dropout(0.2),\n",
    "    layers.BatchNormalization(),\n",
    "    layers.Dense(1, activation = 'sigmoid'),\n",
    "])\n",
    "\n",
    "model.compile(\n",
    "    optimizer = 'adadelta',\n",
    "    loss = 'binary_crossentropy',\n",
    "    metrics = ['binary_accuracy'],\n",
    ")\n",
    "\n",
    "early_stop = callbacks.EarlyStopping(\n",
    "    min_delta = 0.001,\n",
    "    patience = 200,\n",
    "    restore_best_weights = True,\n",
    ")"
   ]
  },
  {
   "cell_type": "markdown",
   "id": "a2d10aa5-ba78-46bf-b4a9-b19c0c241fe9",
   "metadata": {},
   "source": [
    "Plotting Val-loss and loss"
   ]
  },
  {
   "cell_type": "code",
   "execution_count": null,
   "id": "60609bab-2761-4f28-b735-1d11a7fb5db8",
   "metadata": {},
   "outputs": [],
   "source": [
    "batch_size = 757\n",
    "history = model.fit(\n",
    "    X_train, Y_train,\n",
    "    validation_data=(X_valid, Y_valid),\n",
    "    batch_size = batch_size,\n",
    "    callbacks = [early_stop],\n",
    "    verbose=0, #tidak menampilkan output\n",
    "    epochs = 2000\n",
    ")"
   ]
  },
  {
   "cell_type": "code",
   "execution_count": null,
   "id": "4691264a-6eca-496b-983c-e19c186bbbac",
   "metadata": {},
   "outputs": [],
   "source": [
    "history_df = pd.DataFrame(history.history)\n",
    "# Start the plot at epoch 5. You can change this to get a different view.\n",
    "history_df.loc[5:, ['loss', 'val_loss']].plot();"
   ]
  },
  {
   "cell_type": "markdown",
   "id": "c41d00fc-cc7f-4199-b516-c6ffc5f3d45e",
   "metadata": {},
   "source": [
    "accuracy pllotting"
   ]
  },
  {
   "cell_type": "code",
   "execution_count": null,
   "id": "e38f80aa-c1b2-4509-9a17-c8fe1bc78868",
   "metadata": {},
   "outputs": [],
   "source": [
    "history_df.loc[5:, ['binary_accuracy', 'val_binary_accuracy']].plot()\n",
    "\n",
    "print((\"Best Validation Loss: {:0.4f}\" +\\\n",
    "      \"\\nBest Validation Accuracy: {:0.4f}\")\\\n",
    "      .format(history_df['val_loss'].min(), \n",
    "              history_df['val_binary_accuracy'].max()))"
   ]
  },
  {
   "cell_type": "markdown",
   "id": "4632f0e6-9ba9-4a9f-8d1e-37be484075f0",
   "metadata": {},
   "source": [
    "Animasi leraning rate"
   ]
  },
  {
   "cell_type": "markdown",
   "id": "a235af14-ba33-46a2-a396-7abdf0dd74f4",
   "metadata": {},
   "source": [
    "import matplotlib.pyplot as plt\n",
    "# YOUR CODE HERE: Experiment with different values for the learning rate, batch size, and number of examples\n",
    "learning_rate = 0.04\n",
    "num_examples = 256\n",
    "\n",
    "animate_sgd(\n",
    "    learning_rate=learning_rate,\n",
    "    batch_size=batch_size,\n",
    "    num_examples=num_examples,\n",
    "    # You can also change these, if you like\n",
    "    steps=50, # total training steps (batches seen)\n",
    "    true_w=3.0, # the slope of the data\n",
    "    true_b=2.0, # the bias of the data\n",
    ")"
   ]
  },
  {
   "cell_type": "markdown",
   "id": "2e13b590-0200-4bef-91db-d212c850d480",
   "metadata": {},
   "source": [
    "saving model "
   ]
  },
  {
   "cell_type": "code",
   "execution_count": null,
   "id": "56b43a1b-f033-4b6b-af4a-76d114e7e9bd",
   "metadata": {},
   "outputs": [],
   "source": [
    "model.save('DL_test.h5')\n"
   ]
  },
  {
   "cell_type": "markdown",
   "id": "d7fee17f-8e9d-4b47-919e-0fea9c0994f9",
   "metadata": {},
   "source": [
    "checking model saved"
   ]
  },
  {
   "cell_type": "code",
   "execution_count": 11,
   "id": "34f4913d-f157-47c9-8079-10e36a55a938",
   "metadata": {},
   "outputs": [
    {
     "name": "stdout",
     "output_type": "stream",
     "text": [
      "Model: \"sequential\"\n",
      "_________________________________________________________________\n",
      " Layer (type)                Output Shape              Param #   \n",
      "=================================================================\n",
      " batch_normalization (BatchN  (None, 8)                32        \n",
      " ormalization)                                                   \n",
      "                                                                 \n",
      " dense (Dense)               (None, 1024)              9216      \n",
      "                                                                 \n",
      " dropout (Dropout)           (None, 1024)              0         \n",
      "                                                                 \n",
      " batch_normalization_1 (Batc  (None, 1024)             4096      \n",
      " hNormalization)                                                 \n",
      "                                                                 \n",
      " dense_1 (Dense)             (None, 1024)              1049600   \n",
      "                                                                 \n",
      " batch_normalization_2 (Batc  (None, 1024)             4096      \n",
      " hNormalization)                                                 \n",
      "                                                                 \n",
      " dense_2 (Dense)             (None, 512)               524800    \n",
      "                                                                 \n",
      " batch_normalization_3 (Batc  (None, 512)              2048      \n",
      " hNormalization)                                                 \n",
      "                                                                 \n",
      " dense_3 (Dense)             (None, 1)                 513       \n",
      "                                                                 \n",
      "=================================================================\n",
      "Total params: 1,594,401\n",
      "Trainable params: 1,589,265\n",
      "Non-trainable params: 5,136\n",
      "_________________________________________________________________\n"
     ]
    }
   ],
   "source": [
    "# Load the model\n",
    "loaded_model = tf.keras.models.load_model('DL_test.h5')\n",
    "\n",
    "# Verify the model\n",
    "loaded_model.summary()"
   ]
  },
  {
   "cell_type": "code",
   "execution_count": null,
   "id": "616ec027-e03b-499e-a2f5-844f697f8984",
   "metadata": {},
   "outputs": [],
   "source": []
  }
 ],
 "metadata": {
  "kernelspec": {
   "display_name": "Python 3 (ipykernel)",
   "language": "python",
   "name": "python3"
  },
  "language_info": {
   "codemirror_mode": {
    "name": "ipython",
    "version": 3
   },
   "file_extension": ".py",
   "mimetype": "text/x-python",
   "name": "python",
   "nbconvert_exporter": "python",
   "pygments_lexer": "ipython3",
   "version": "3.9.18"
  }
 },
 "nbformat": 4,
 "nbformat_minor": 5
}
